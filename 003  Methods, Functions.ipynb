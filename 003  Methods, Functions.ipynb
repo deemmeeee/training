{
 "cells": [
  {
   "cell_type": "code",
   "execution_count": 1,
   "id": "f781947f",
   "metadata": {},
   "outputs": [
    {
     "data": {
      "text/plain": [
       "'\\nappend\\ncount\\nextend\\ninsert\\npop\\nremove\\nreverse\\nsort\\n'"
      ]
     },
     "execution_count": 1,
     "metadata": {},
     "output_type": "execute_result"
    }
   ],
   "source": [
    "#Методы \n",
    "\n",
    "#Методы - это по сути функции, встроенные в объекты.\n",
    "'''\n",
    "append\n",
    "count\n",
    "extend\n",
    "insert\n",
    "pop\n",
    "remove\n",
    "reverse\n",
    "sort\n",
    "'''\n",
    "#lst.append(6)"
   ]
  },
  {
   "cell_type": "code",
   "execution_count": 3,
   "id": "1caca4e8",
   "metadata": {},
   "outputs": [
    {
     "data": {
      "text/plain": [
       "[1, 2, 3, 4, 5, 6]"
      ]
     },
     "execution_count": 3,
     "metadata": {},
     "output_type": "execute_result"
    }
   ],
   "source": [
    "lst = [1,2,3,4,5]\n",
    "#append() добавляет элементы в конец списка:\n",
    "lst.append(6)\n",
    "lst"
   ]
  },
  {
   "cell_type": "code",
   "execution_count": 4,
   "id": "a9632e94",
   "metadata": {},
   "outputs": [
    {
     "data": {
      "text/plain": [
       "1"
      ]
     },
     "execution_count": 4,
     "metadata": {},
     "output_type": "execute_result"
    }
   ],
   "source": [
    "#Показывает, сколько раз в списке встречается элемент 2\n",
    "lst.count(2)"
   ]
  },
  {
   "cell_type": "code",
   "execution_count": 5,
   "id": "50e9fc00",
   "metadata": {},
   "outputs": [
    {
     "name": "stdout",
     "output_type": "stream",
     "text": [
      "Help on built-in function count:\n",
      "\n",
      "count(value, /) method of builtins.list instance\n",
      "    Return number of occurrences of value.\n",
      "\n"
     ]
    }
   ],
   "source": [
    "#чтобы получить описание метода можно использовать функцию help():\n",
    "help(lst.count)"
   ]
  },
  {
   "cell_type": "code",
   "execution_count": 6,
   "id": "efa9458a",
   "metadata": {},
   "outputs": [],
   "source": [
    "#Функции\n",
    "\n",
    "#функция- это способ группировки нескольких команд вместе,\n",
    "#которые можно запускать много раз"
   ]
  },
  {
   "cell_type": "code",
   "execution_count": 2,
   "id": "567208cb",
   "metadata": {},
   "outputs": [],
   "source": [
    "def say_hello():\n",
    "    print('hello')"
   ]
  },
  {
   "cell_type": "code",
   "execution_count": 3,
   "id": "7f82375c",
   "metadata": {},
   "outputs": [
    {
     "name": "stdout",
     "output_type": "stream",
     "text": [
      "hello\n"
     ]
    }
   ],
   "source": [
    "say_hello()"
   ]
  },
  {
   "cell_type": "code",
   "execution_count": 4,
   "id": "9e57eea5",
   "metadata": {},
   "outputs": [],
   "source": [
    "def greeting(name):\n",
    "    print('Hello %s' %(name))"
   ]
  },
  {
   "cell_type": "code",
   "execution_count": 5,
   "id": "11b89f26",
   "metadata": {},
   "outputs": [
    {
     "name": "stdout",
     "output_type": "stream",
     "text": [
      "Hello Vlad\n"
     ]
    }
   ],
   "source": [
    "greeting('Vlad')"
   ]
  },
  {
   "cell_type": "code",
   "execution_count": 6,
   "id": "57720f30",
   "metadata": {},
   "outputs": [
    {
     "data": {
      "text/plain": [
       "74"
      ]
     },
     "execution_count": 6,
     "metadata": {},
     "output_type": "execute_result"
    }
   ],
   "source": [
    "#фуннкция возвращает модуль числа(без -)\n",
    "abs(-74)"
   ]
  },
  {
   "cell_type": "code",
   "execution_count": 8,
   "id": "62b3dcf5",
   "metadata": {},
   "outputs": [],
   "source": [
    "#*args (* - перед названием переменной означает ввод аргументов(параметров))\n",
    "#*args - созадется для создания кортеджа с произовльных количеством параметров\n",
    "#внутри функции, ибо кортедж имеет ограничение от 2 до 3-х значений)"
   ]
  },
  {
   "cell_type": "code",
   "execution_count": 5,
   "id": "5d47b852",
   "metadata": {},
   "outputs": [],
   "source": [
    "def myfunc(*args):\n",
    "    for item in args:\n",
    "        print(item)"
   ]
  },
  {
   "cell_type": "code",
   "execution_count": 6,
   "id": "012b9107",
   "metadata": {},
   "outputs": [
    {
     "name": "stdout",
     "output_type": "stream",
     "text": [
      "0\n",
      "1\n",
      "2\n",
      "3\n",
      "4100\n",
      "1121212\n",
      "14121255\n"
     ]
    }
   ],
   "source": [
    "myfunc(0,1,2,3,4100,1121212,14121255)"
   ]
  },
  {
   "cell_type": "code",
   "execution_count": null,
   "id": "d446d4a2",
   "metadata": {},
   "outputs": [],
   "source": [
    "#**kwargs - именованные параметры(keywordarguments), создает словарь."
   ]
  },
  {
   "cell_type": "code",
   "execution_count": 7,
   "id": "55cab43c",
   "metadata": {},
   "outputs": [],
   "source": [
    "def myfunc2(**kwargs):\n",
    "    if 'fruit' in kwargs:\n",
    "        print('my fruit is {}' .formta(kwargs['fruit']))\n",
    "    else:\n",
    "        print('i didnt find any fruit')"
   ]
  },
  {
   "cell_type": "code",
   "execution_count": 5,
   "id": "baa7a1d2",
   "metadata": {},
   "outputs": [
    {
     "ename": "SyntaxError",
     "evalue": "invalid syntax (Temp/ipykernel_11692/524887780.py, line 2)",
     "output_type": "error",
     "traceback": [
      "\u001b[1;36m  File \u001b[1;32m\"C:\\Users\\DeeMee\\AppData\\Local\\Temp/ipykernel_11692/524887780.py\"\u001b[1;36m, line \u001b[1;32m2\u001b[0m\n\u001b[1;33m    def myfunc2(**kwargs,*args):\u001b[0m\n\u001b[1;37m                         ^\u001b[0m\n\u001b[1;31mSyntaxError\u001b[0m\u001b[1;31m:\u001b[0m invalid syntax\n"
     ]
    }
   ],
   "source": [
    "#kwargs и args можно использовать вместе\n",
    "def myfunc2(**kwargs,*args):\n",
    "    pass"
   ]
  },
  {
   "cell_type": "code",
   "execution_count": null,
   "id": "b7bf6b1b",
   "metadata": {},
   "outputs": [],
   "source": [
    "#Анонимные функции, Lambda-выражения\n",
    "#map()\n",
    "#Функция map позволяет Вам сделать \"маппинг\" между функцией и итерируемым объектом(списком).\n",
    "#То есть, Вы можете запустить одну и ту же функцию для любого элемента \n",
    "#в итерируемом объекте, например в списке."
   ]
  },
  {
   "cell_type": "code",
   "execution_count": 6,
   "id": "c97f0bb8",
   "metadata": {},
   "outputs": [
    {
     "data": {
      "text/plain": [
       "[1, 4, 9, 16, 25]"
      ]
     },
     "execution_count": 6,
     "metadata": {},
     "output_type": "execute_result"
    }
   ],
   "source": [
    "def square(num):\n",
    "    return num**2\n",
    "my_nums = [1,2,3,4,5]\n",
    "map(square,my_nums)\n",
    "# Чтобы получить результаты, либо выполняйте итерации с помощью map() \n",
    "# либо просто сделайте приведение к списку\n",
    "list(map(square,my_nums))"
   ]
  },
  {
   "cell_type": "code",
   "execution_count": null,
   "id": "59ec718e",
   "metadata": {},
   "outputs": [],
   "source": [
    "#filter - функция возвращает только те результаты,которые вернут True, \n",
    "#если их передать в указанную функцию."
   ]
  },
  {
   "cell_type": "code",
   "execution_count": 8,
   "id": "8f31df33",
   "metadata": {},
   "outputs": [
    {
     "data": {
      "text/plain": [
       "[2, 4, 6]"
      ]
     },
     "execution_count": 8,
     "metadata": {},
     "output_type": "execute_result"
    }
   ],
   "source": [
    "def check_even(num):\n",
    "    return num%2 == 0\n",
    "mynums = [1,2,3,4,5,6]\n",
    "list(filter(check_even,mynums))"
   ]
  },
  {
   "cell_type": "code",
   "execution_count": null,
   "id": "a107e82c",
   "metadata": {},
   "outputs": [],
   "source": []
  }
 ],
 "metadata": {
  "kernelspec": {
   "display_name": "Python 3 (ipykernel)",
   "language": "python",
   "name": "python3"
  },
  "language_info": {
   "codemirror_mode": {
    "name": "ipython",
    "version": 3
   },
   "file_extension": ".py",
   "mimetype": "text/x-python",
   "name": "python",
   "nbconvert_exporter": "python",
   "pygments_lexer": "ipython3",
   "version": "3.9.7"
  }
 },
 "nbformat": 4,
 "nbformat_minor": 5
}

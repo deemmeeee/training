{
 "cells": [
  {
   "cell_type": "code",
   "execution_count": 36,
   "id": "1b00cf0c",
   "metadata": {},
   "outputs": [],
   "source": [
    "#Открываем файл в Python(он должен находиться там же, где и notebook)\n",
    "myfile = open('new1.txt')"
   ]
  },
  {
   "cell_type": "code",
   "execution_count": 37,
   "id": "acba20d0",
   "metadata": {},
   "outputs": [],
   "source": [
    "#Чтобы проверить папку, в которой находится notebook, используйте pwd:"
   ]
  },
  {
   "cell_type": "code",
   "execution_count": 38,
   "id": "8ff55116",
   "metadata": {},
   "outputs": [
    {
     "data": {
      "text/plain": [
       "'C:\\\\Users\\\\DeeMee\\\\My_python'"
      ]
     },
     "execution_count": 38,
     "metadata": {},
     "output_type": "execute_result"
    }
   ],
   "source": [
    "pwd"
   ]
  },
  {
   "cell_type": "code",
   "execution_count": 42,
   "id": "cfc7af4d",
   "metadata": {},
   "outputs": [],
   "source": [
    "#Вы можете прочитать файлы из любой папки на Вашем компьютере, \n",
    "#просто указав полный путь к файлу. *''C:\\\\Users\\\\DeeMee\\\\My_python\\\\myfile.txt'*\n",
    "\n",
    "#В Windows нужно использовать двойные обратные слэши , \n",
    "#чтобы python не воспринимал второй слэш как символ экранирования. Вот пример:\n",
    "\n",
    "myfile = open('C:\\\\Users\\\\DeeMee\\\\My_python\\\\myfile.txt')"
   ]
  },
  {
   "cell_type": "code",
   "execution_count": 43,
   "id": "4efcea11",
   "metadata": {},
   "outputs": [],
   "source": [
    "#esgehg"
   ]
  },
  {
   "cell_type": "code",
   "execution_count": 44,
   "id": "fb604b15",
   "metadata": {},
   "outputs": [],
   "source": [
    "# Открываем файл text.txt, который мы создали ранее через windows\n",
    "my_file = open('new1.txt')"
   ]
  },
  {
   "cell_type": "code",
   "execution_count": 45,
   "id": "1801d165",
   "metadata": {},
   "outputs": [
    {
     "data": {
      "text/plain": [
       "'new one'"
      ]
     },
     "execution_count": 45,
     "metadata": {},
     "output_type": "execute_result"
    }
   ],
   "source": [
    "my_file.read() #Теперь мы можем прочитать данные из файла"
   ]
  },
  {
   "cell_type": "code",
   "execution_count": 13,
   "id": "02c962be",
   "metadata": {},
   "outputs": [
    {
     "data": {
      "text/plain": [
       "''"
      ]
     },
     "execution_count": 13,
     "metadata": {},
     "output_type": "execute_result"
    }
   ],
   "source": [
    "# А что если мы попытаемся прочитать данные снова?\n",
    "my_file.read()"
   ]
  },
  {
   "cell_type": "code",
   "execution_count": 22,
   "id": "d72367f3",
   "metadata": {},
   "outputs": [
    {
     "data": {
      "text/plain": [
       "0"
      ]
     },
     "execution_count": 22,
     "metadata": {},
     "output_type": "execute_result"
    }
   ],
   "source": [
    "#Это произошло, потому что воображаемый \"курсор\" находится в конце файла \n",
    "#после того, как чтение выполнено. Поэтому больше нечего прочитать. \n",
    "#Мы можем сбросить \"курсор\" вот так:\n",
    "\n",
    "my_file.seek(0) # Перейти к началу файла (индекс 0)"
   ]
  },
  {
   "cell_type": "code",
   "execution_count": 23,
   "id": "bf1a5b05",
   "metadata": {},
   "outputs": [
    {
     "data": {
      "text/plain": [
       "'new one'"
      ]
     },
     "execution_count": 23,
     "metadata": {},
     "output_type": "execute_result"
    }
   ],
   "source": [
    "# Теперь снова читаем\n",
    "my_file.read()"
   ]
  },
  {
   "cell_type": "code",
   "execution_count": 16,
   "id": "e9268589",
   "metadata": {},
   "outputs": [
    {
     "data": {
      "text/plain": [
       "['new one']"
      ]
     },
     "execution_count": 16,
     "metadata": {},
     "output_type": "execute_result"
    }
   ],
   "source": [
    "#метод .readlines также можете читать файл строка за строкой\n",
    "# Readlines возвращает список строк в файле\n",
    "my_file.seek(0)\n",
    "my_file.readlines()"
   ]
  },
  {
   "cell_type": "code",
   "execution_count": 40,
   "id": "e6e5eaea",
   "metadata": {},
   "outputs": [],
   "source": [
    "#для закрытия файла\n",
    "myfile.close()"
   ]
  },
  {
   "cell_type": "code",
   "execution_count": 46,
   "id": "8b04a9bd",
   "metadata": {},
   "outputs": [],
   "source": [
    "#with open ('my_file3.txt'mode='r') as f:\n",
    "#my_file = open('test.txt','w+')\n",
    "#r  чтение\n",
    "#w  запись(перезаписан или создан новый)\n",
    "#a  добавление к файлу\n",
    "#w+ запись(перезаписан или создан новый) + чтение \n",
    "#r+ чтение + запись"
   ]
  },
  {
   "cell_type": "code",
   "execution_count": 47,
   "id": "12253260",
   "metadata": {},
   "outputs": [],
   "source": [
    "#Запись в файл\n",
    "\n",
    "my_file = open('test.txt','w+')"
   ]
  },
  {
   "cell_type": "code",
   "execution_count": 48,
   "id": "1a085cae",
   "metadata": {},
   "outputs": [
    {
     "data": {
      "text/plain": [
       "18"
      ]
     },
     "execution_count": 48,
     "metadata": {},
     "output_type": "execute_result"
    }
   ],
   "source": [
    "my_file.write('This is a new line')"
   ]
  },
  {
   "cell_type": "code",
   "execution_count": 49,
   "id": "5ab90b55",
   "metadata": {},
   "outputs": [
    {
     "data": {
      "text/plain": [
       "'This is a new line'"
      ]
     },
     "execution_count": 49,
     "metadata": {},
     "output_type": "execute_result"
    }
   ],
   "source": [
    "# Читаем из файла\n",
    "my_file.seek(0)\n",
    "my_file.read()"
   ]
  },
  {
   "cell_type": "code",
   "execution_count": 50,
   "id": "d2f03df1",
   "metadata": {},
   "outputs": [],
   "source": [
    "my_file.close()  # всегда делайте close, когда закончили работу с файлом"
   ]
  },
  {
   "cell_type": "code",
   "execution_count": 51,
   "id": "9ac9c34b",
   "metadata": {},
   "outputs": [
    {
     "data": {
      "text/plain": [
       "23"
      ]
     },
     "execution_count": 51,
     "metadata": {},
     "output_type": "execute_result"
    }
   ],
   "source": [
    "#Добавление данных в файл (append)\n",
    "\n",
    "#Значение 'a' открывает файл и ставит курсор в конец файла\n",
    "#По аналогии с 'w+', 'a+' позволяет (создавать)читать файл и записывать в файл.\n",
    "my_file = open('test.txt','a+')\n",
    "my_file.write('\\nThis is text being appended to test.txt')\n",
    "my_file.write('\\nAnd another line here.')"
   ]
  },
  {
   "cell_type": "code",
   "execution_count": 52,
   "id": "2ba28470",
   "metadata": {},
   "outputs": [
    {
     "name": "stdout",
     "output_type": "stream",
     "text": [
      "This is a new line\n",
      "This is text being appended to test.txt\n",
      "And another line here.\n"
     ]
    }
   ],
   "source": [
    "my_file.seek(0)\n",
    "print(my_file.read())"
   ]
  },
  {
   "cell_type": "code",
   "execution_count": null,
   "id": "c36fd6d2",
   "metadata": {},
   "outputs": [],
   "source": []
  }
 ],
 "metadata": {
  "kernelspec": {
   "display_name": "Python 3 (ipykernel)",
   "language": "python",
   "name": "python3"
  },
  "language_info": {
   "codemirror_mode": {
    "name": "ipython",
    "version": 3
   },
   "file_extension": ".py",
   "mimetype": "text/x-python",
   "name": "python",
   "nbconvert_exporter": "python",
   "pygments_lexer": "ipython3",
   "version": "3.9.7"
  }
 },
 "nbformat": 4,
 "nbformat_minor": 5
}

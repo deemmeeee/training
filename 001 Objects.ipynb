{
 "cells": [
  {
   "cell_type": "code",
   "execution_count": 1,
   "id": "7b8497f1",
   "metadata": {},
   "outputs": [
    {
     "ename": "SyntaxError",
     "evalue": "invalid syntax (Temp/ipykernel_17740/977053891.py, line 1)",
     "output_type": "error",
     "traceback": [
      "\u001b[1;36m  File \u001b[1;32m\"C:\\Users\\DeeMee\\AppData\\Local\\Temp/ipykernel_17740/977053891.py\"\u001b[1;36m, line \u001b[1;32m1\u001b[0m\n\u001b[1;33m    //\tделение без остатка\u001b[0m\n\u001b[1;37m    ^\u001b[0m\n\u001b[1;31mSyntaxError\u001b[0m\u001b[1;31m:\u001b[0m invalid syntax\n"
     ]
    }
   ],
   "source": [
    "//\tделение без остатка\n",
    "%\tостаток от деления\n",
    "**\tстепень\n",
    "a += 1 # a = a + 1\n",
    "int()\n",
    "str()\n",
    "float()\n",
    "list = ['a','b',123,'reshg']\n",
    "tuple = ()\n",
    "dict = {}\n",
    "bool False/True\n",
    "'''Числа (Numbers) числа, которые характеризуют колличество int, float age = 28\n",
    "\n",
    "Строки (Strings) строки содержут текст, который передает какую-то информацию, \n",
    "обозначаются выделением кавычками \"\" и '' тип данных str name = 'Dmitry'\n",
    "\n",
    "Списки (Lists) это упорядоченные списки данных, обозначаются квадратными \n",
    "скобками, записываются через запятую. name = ['iga', \"basya\", 12]\n",
    "\n",
    "Кортежи (Tuples) это упорядочые с неизменяемой последовательностью списки(наборы) \n",
    "переменных обозначаются через круглые скобки massive1 = (1.98, 'cat', 'reading')\n",
    "\n",
    "Словари(Dictionaries) это неупорядочные списки данных обозначаются через круглые\n",
    "скобки colors = {k1='yellow', k2='green', k3='red'}\n",
    "\n",
    "Множества(Sets)это неупорядоченный набор уникальных элементов. Мы можем создать\n",
    "их с помощью функции set(). Обозначается фигурными скобками {1} '''"
   ]
  },
  {
   "cell_type": "code",
   "execution_count": 22,
   "id": "361b0836",
   "metadata": {},
   "outputs": [
    {
     "data": {
      "text/plain": [
       "bool"
      ]
     },
     "execution_count": 22,
     "metadata": {},
     "output_type": "execute_result"
    }
   ],
   "source": [
    "a = 1\n",
    "type(a) #определение типа переменной\n",
    "#int (для integer)\n",
    "#float\n",
    "#str (для string)\n",
    "#list - список\n",
    "#tuple - кортедж \n",
    "#dict (для dictionary) - словарь {}\n",
    "#set мноджество\n",
    "#bool (для Boolean True/False)\n",
    "B = False\n",
    "type(B)"
   ]
  },
  {
   "cell_type": "code",
   "execution_count": 49,
   "id": "07c9772b",
   "metadata": {},
   "outputs": [
    {
     "data": {
      "text/plain": [
       "4"
      ]
     },
     "execution_count": 49,
     "metadata": {},
     "output_type": "execute_result"
    }
   ],
   "source": [
    "#СТРОКИ (STRINGS)\n",
    "len('Hello World') #длина строки\n",
    "list1 = ['A string',23,100.232,'o']\n",
    "len(list1) #длина листа(кол-во элементов)"
   ]
  },
  {
   "cell_type": "code",
   "execution_count": 3,
   "id": "61c3eff1",
   "metadata": {},
   "outputs": [
    {
     "data": {
      "text/plain": [
       "'o42ec'"
      ]
     },
     "execution_count": 3,
     "metadata": {},
     "output_type": "execute_result"
    }
   ],
   "source": [
    "s = 'abcde1234wow' \n",
    "#индексирование \n",
    "s[-2:0:-2]  \n",
    "# начало s[0:]\n",
    "# конец s[:3]\n",
    "# шаг s[::2]\n",
    "# Отобразить строку: s[::-1]\n",
    "# Поменять первую букву на 'x': s[0] = 'x'"
   ]
  },
  {
   "cell_type": "code",
   "execution_count": 4,
   "id": "9bc1b3ed",
   "metadata": {},
   "outputs": [
    {
     "data": {
      "text/plain": [
       "'abcde1234wowabcde1234wow'"
      ]
     },
     "execution_count": 4,
     "metadata": {},
     "output_type": "execute_result"
    }
   ],
   "source": [
    "# Соединяем строки (конкатенация)!\n",
    "s + ' concatenate me!'\n",
    "# умножение строк\n",
    "s * 2"
   ]
  },
  {
   "cell_type": "code",
   "execution_count": 5,
   "id": "fbeaf036",
   "metadata": {},
   "outputs": [
    {
     "data": {
      "text/plain": [
       "'Abcde1234wow'"
      ]
     },
     "execution_count": 5,
     "metadata": {},
     "output_type": "execute_result"
    }
   ],
   "source": [
    "# Перевод строки в верхний регистр\n",
    "s.upper()\n",
    "# Перевод строки в нижний регистр\n",
    "s.lower()\n",
    "# Разбиение строки на части, используя пробел\n",
    "#(это разделитель по умолчанию)\n",
    "s.split()\n",
    "# Разбиение по указанному элементу (не включает сам элемент)\n",
    "s.split('1')\n",
    "# Написание с большой буквы \n",
    "s.capitalize()\n",
    "# метод позволяет соединять строки, используя определенный разделитель.\n",
    "# .join() \n",
    "#\"--\".join(['a','b','c'])\n",
    "# 'a--b--c'"
   ]
  },
  {
   "cell_type": "code",
   "execution_count": 23,
   "id": "55aa5b20",
   "metadata": {},
   "outputs": [
    {
     "name": "stdout",
     "output_type": "stream",
     "text": [
      "I'm going to inject something here.\n",
      "I'm going to inject some text here, and more text here.\n",
      "I'm going to inject SOME text here, and MORE text here.\n"
     ]
    }
   ],
   "source": [
    "#ФОРМАТИРОВАНИЕ\n",
    "\n",
    "#Форматирование с помощью замены %s\n",
    "print(\"I'm going to inject %s here.\" %'something') "
   ]
  },
  {
   "cell_type": "code",
   "execution_count": null,
   "id": "d139629b",
   "metadata": {
    "scrolled": true
   },
   "outputs": [],
   "source": []
  },
  {
   "cell_type": "code",
   "execution_count": 50,
   "id": "f9aa5b47",
   "metadata": {},
   "outputs": [
    {
     "name": "stdout",
     "output_type": "stream",
     "text": [
      "The quick brown fox\n"
     ]
    }
   ],
   "source": [
    "#.format\n",
    "#'Добавить еще одну строку с помощью: {}'.format('Добавляемая строка')\n",
    "#1. Добавляемые объекты можно указать по их номеру:\n",
    "print('The {2} {1} {0}'.format('fox','brown','quick'))\n"
   ]
  },
  {
   "cell_type": "code",
   "execution_count": 51,
   "id": "91e1daa6",
   "metadata": {},
   "outputs": [
    {
     "name": "stdout",
     "output_type": "stream",
     "text": [
      "He said his name is Fred.\n"
     ]
    }
   ],
   "source": [
    "#f-строки (f-strings)\n",
    "name = 'Fred'\n",
    "print(f\"He said his name is {name}.\")\n"
   ]
  },
  {
   "cell_type": "code",
   "execution_count": 29,
   "id": "7940acad",
   "metadata": {},
   "outputs": [
    {
     "name": "stdout",
     "output_type": "stream",
     "text": [
      "[1, 8, 3, 4, 99, 2, 5]\n",
      "[1, 8, 3, 4, 99, 2, 5, 'append me!']\n",
      "[1, 8, 3, 4, 99, 2, 5]\n",
      "5\n"
     ]
    },
    {
     "data": {
      "text/plain": [
       "[1, 2, 3, 4, 8, 99]"
      ]
     },
     "execution_count": 29,
     "metadata": {},
     "output_type": "execute_result"
    }
   ],
   "source": [
    "#СПИСКИ(LISTS) sequences/последовательности\n",
    "\n",
    "list2 = [1,8,3,4,99,2,5]\n",
    "print(list2) \n",
    "list2[0:2] #индексирование\n",
    "list2 + ['new item'] #конкатенация\n",
    "list2 * 2 #умножение листа(дублирование)\n",
    "\n",
    "#МЕТОДЫ\n",
    "\n",
    "# append - метод добавляет новый элемент в конец списка\n",
    "list2.append('append me!') \n",
    "print(list2) \n",
    "# pop - вынимаеn элемент(в скобках указывается индекс) по дефолту последний -1\n",
    "list2.pop()\n",
    "print(list2)\n",
    "popped_element = list2.pop() # Сохраняем вынимаемый элемент в новую переменную\n",
    "print(popped_element)\n",
    "# reverce - для обратной сортировки\n",
    "list2.reverse() #изменения сохраняются в списке\n",
    "list2\n",
    "# sort - для сортировки(только слов по алфавиту/только чисел по возрастанию)\n",
    "list2.sort()\n",
    "list2"
   ]
  },
  {
   "cell_type": "code",
   "execution_count": 30,
   "id": "c01f0c3e",
   "metadata": {},
   "outputs": [],
   "source": [
    "#Cписки в Python более гибкие, чем массивы в других языках,:\n",
    "#не нужно указывать размер списка и типы объектов."
   ]
  },
  {
   "cell_type": "code",
   "execution_count": 32,
   "id": "26a9f344",
   "metadata": {},
   "outputs": [
    {
     "data": {
      "text/plain": [
       "1"
      ]
     },
     "execution_count": 32,
     "metadata": {},
     "output_type": "execute_result"
    }
   ],
   "source": [
    "#Вложенные списки\n",
    "\n",
    "# Создадим три списка\n",
    "lst_1=[1,2,3]\n",
    "lst_2=[4,5,6]\n",
    "lst_3=[7,8,9]\n",
    "# Создадим список списков, получаем матрицу\n",
    "matrix = [lst_1,lst_2,lst_3]\n",
    "#появляется два уровня индексирования\n",
    "matrix[0][0]"
   ]
  },
  {
   "cell_type": "code",
   "execution_count": 35,
   "id": "d04bae89",
   "metadata": {},
   "outputs": [
    {
     "data": {
      "text/plain": [
       "[1, 4, 7]"
      ]
     },
     "execution_count": 35,
     "metadata": {},
     "output_type": "execute_result"
    }
   ],
   "source": [
    "#Генераторы списков (List Comprehensions)\n",
    "\n",
    "# Создаем список с помощью цикла for внутри []\n",
    "first_col = [row[0] for row in matrix] #Мы использовали генератор списков, \n",
    "#чтобы взять первый элемент в каждой строке объекта matrix.\n",
    "first_col"
   ]
  },
  {
   "cell_type": "code",
   "execution_count": 40,
   "id": "c71161e2",
   "metadata": {},
   "outputs": [],
   "source": [
    "#Словарь (Dictionaries) mappings/маппинги\n",
    "\n",
    "#Маппинги - это набор объектов, которые можно получить по ключу (key). \n",
    "#Это отличается от последовательностей, где объекты хранятся в определенном \n",
    "#порядке относительно друг друга. Это важное отличие, потому что маппинги\n",
    "#не имеют порядка элементов. В маппингах элементы определены с помощью ключей.\n",
    "\n",
    "# Словари создаются с помощью {} и : , чтобы указать ключи и значения\n",
    "my_dict = {'key1':123,'key2':[12,23,33],'key3':['item0','item1','item2']}\n",
    "my_dict['key3'] # Получаем значение по его ключу\n",
    "my_dict['key3'][0] # можно использовать индекс \n",
    "my_dict['key3'][0].upper() # можно использовать методы для этого значения\n",
    "# можно менять значения ключа \n",
    "my_dict['key1'] = my_dict['key1'] - 123   # Вычитаем 123 из значения\n",
    "my_dict['key1'] -= 123 # или сокращонно\n",
    "# Создаем новый словарь\n",
    "d = {}\n",
    "# Создаем новый ключ, присваивая ему значение\n",
    "d['animal'] = 'Dog'\n",
    "# Мы можем сделать это для любого объекта\n",
    "d['answer'] = 42"
   ]
  },
  {
   "cell_type": "code",
   "execution_count": 42,
   "id": "9e21e42c",
   "metadata": {},
   "outputs": [
    {
     "data": {
      "text/plain": [
       "dict_items([('key1', {'nestkey': {'subnestkey': 'value'}})])"
      ]
     },
     "execution_count": 42,
     "metadata": {},
     "output_type": "execute_result"
    }
   ],
   "source": [
    "# Вложенные словари\n",
    "# Словарь внутри словаря внутри словаря\n",
    "p = {'key1':{'nestkey':{'subnestkey':'value'}}}\n",
    "\n",
    "#Методы\n",
    "# Создаем обычный словарь\n",
    "d = {'key1':1,'key2':2,'key3':3}\n",
    "# Метод, который возвращает список всех ключей\n",
    "d.keys()\n",
    "# Метод, возвращающий все значения\n",
    "d.values()\n",
    "# Метод, возвращающий кортежи (tuples) для всех элементов\n",
    "d.items()"
   ]
  },
  {
   "cell_type": "code",
   "execution_count": 48,
   "id": "7722a52e",
   "metadata": {},
   "outputs": [
    {
     "data": {
      "text/plain": [
       "0"
      ]
     },
     "execution_count": 48,
     "metadata": {},
     "output_type": "execute_result"
    }
   ],
   "source": [
    "#Кортежи (Tuples)\n",
    "#кортежи неизменяемы (immutable) \n",
    "#они используются в тех случаях, когда неизменность важна,\n",
    "#и Вам нужно быть уверенным, что объекты не поменяются\n",
    "\n",
    "# Создаем кортеж\n",
    "t = ('one',2,3)\n",
    "\n",
    "len(t) # Проверяем длину с помощью len\n",
    "t[0] # Используем индексы\n",
    "\n",
    "#Методы\n",
    "# .index, чтобы указать значение и узнать его позицию (индекс) в кортеже\n",
    "t.index('one')\n",
    "# .count, чтобы посчитать, сколько раз встречается значение"
   ]
  },
  {
   "cell_type": "code",
   "execution_count": 49,
   "id": "8211b127",
   "metadata": {},
   "outputs": [
    {
     "ename": "AttributeError",
     "evalue": "'tuple' object has no attribute 'append'",
     "output_type": "error",
     "traceback": [
      "\u001b[1;31m---------------------------------------------------------------------------\u001b[0m",
      "\u001b[1;31mAttributeError\u001b[0m                            Traceback (most recent call last)",
      "\u001b[1;32m~\\AppData\\Local\\Temp/ipykernel_7756/3186827900.py\u001b[0m in \u001b[0;36m<module>\u001b[1;34m\u001b[0m\n\u001b[0;32m      1\u001b[0m \u001b[1;31m#Неизменность (Immutability)\u001b[0m\u001b[1;33m\u001b[0m\u001b[1;33m\u001b[0m\u001b[0m\n\u001b[0;32m      2\u001b[0m \u001b[1;31m#Как только кортеж создан, в него нельзя добавить элементы.\u001b[0m\u001b[1;33m\u001b[0m\u001b[1;33m\u001b[0m\u001b[0m\n\u001b[1;32m----> 3\u001b[1;33m \u001b[0mt\u001b[0m\u001b[1;33m.\u001b[0m\u001b[0mappend\u001b[0m\u001b[1;33m(\u001b[0m\u001b[1;34m'nope'\u001b[0m\u001b[1;33m)\u001b[0m\u001b[1;33m\u001b[0m\u001b[1;33m\u001b[0m\u001b[0m\n\u001b[0m",
      "\u001b[1;31mAttributeError\u001b[0m: 'tuple' object has no attribute 'append'"
     ]
    }
   ],
   "source": [
    "#Неизменность (Immutability)\n",
    "#Как только кортеж создан, в него нельзя добавить элементы.\n",
    "t.append('nope')"
   ]
  },
  {
   "cell_type": "code",
   "execution_count": 56,
   "id": "28a3ec93",
   "metadata": {},
   "outputs": [],
   "source": [
    "#Множества (Sets) \n",
    "#Множества - это НЕУПОРЯДОЧНЫЙ набор УНИКАЛЬНЫХ элементов.\n",
    "\n",
    "#нет порядка и нет одинаковых объектов.\n",
    "#Мы можем создать их с помощью функции set()\n",
    "x = set()\n",
    "# Мы добавляем элементы в множество с помощью метода add() \n",
    "x.add(1)"
   ]
  },
  {
   "cell_type": "code",
   "execution_count": 57,
   "id": "07f57ae2",
   "metadata": {},
   "outputs": [
    {
     "data": {
      "text/plain": [
       "{1, 2}"
      ]
     },
     "execution_count": 57,
     "metadata": {},
     "output_type": "execute_result"
    }
   ],
   "source": [
    "# Добавляем второй элемент\n",
    "x.add(2)\n",
    "# Проверка\n",
    "x\n",
    "# Если добавить первый элемент число 1 еще раз\n",
    "x.add(1)\n",
    "# Проверка\n",
    "x\n",
    "#ещё одна единица не будет добавлена. \n",
    "#Это потому, что множество содержит только уникальные элементы!"
   ]
  },
  {
   "cell_type": "code",
   "execution_count": 59,
   "id": "ce04d865",
   "metadata": {},
   "outputs": [
    {
     "data": {
      "text/plain": [
       "{1, 2, 3, 4, 5, 6, 8}"
      ]
     },
     "execution_count": 59,
     "metadata": {},
     "output_type": "execute_result"
    }
   ],
   "source": [
    "#можно привести список к множеству, чтобы получить уникальные элементы:\n",
    "list3 = [2,8,2,2,3,4,5,6,1,1]\n",
    "# Приводим это к множеству, чтобы получить уникальные значения\n",
    "set(list3)"
   ]
  },
  {
   "cell_type": "code",
   "execution_count": 60,
   "id": "8f626b54",
   "metadata": {},
   "outputs": [
    {
     "data": {
      "text/plain": [
       "True"
      ]
     },
     "execution_count": 60,
     "metadata": {},
     "output_type": "execute_result"
    }
   ],
   "source": [
    "#Логический тип (Boolean)\n",
    "\n",
    "#Boolean - логический тип со значениями True (истинно)(1) и False (ложно)(0)\n",
    "# Устанавливаем объект в значение с типом boolean\n",
    "a = True\n",
    "# Проверка\n",
    "a"
   ]
  },
  {
   "cell_type": "code",
   "execution_count": 61,
   "id": "1d31d590",
   "metadata": {},
   "outputs": [
    {
     "data": {
      "text/plain": [
       "False"
      ]
     },
     "execution_count": 61,
     "metadata": {},
     "output_type": "execute_result"
    }
   ],
   "source": [
    "#Можно использовать операторы сравнения, чтобы создавать объекты boolean.\n",
    "# Результат это boolean\n",
    "1 > 2"
   ]
  },
  {
   "cell_type": "code",
   "execution_count": 62,
   "id": "bfaf6432",
   "metadata": {},
   "outputs": [
    {
     "name": "stdout",
     "output_type": "stream",
     "text": [
      "None\n"
     ]
    }
   ],
   "source": [
    "#Мы можем указать значение None для объекта, \n",
    "#которому мы пока не будем присваивать новое значение:\n",
    "# None placeholder\n",
    "b = None\n",
    "# Проверка\n",
    "print(b)"
   ]
  },
  {
   "cell_type": "code",
   "execution_count": null,
   "id": "4a25e981",
   "metadata": {},
   "outputs": [],
   "source": []
  }
 ],
 "metadata": {
  "kernelspec": {
   "display_name": "Python 3 (ipykernel)",
   "language": "python",
   "name": "python3"
  },
  "language_info": {
   "codemirror_mode": {
    "name": "ipython",
    "version": 3
   },
   "file_extension": ".py",
   "mimetype": "text/x-python",
   "name": "python",
   "nbconvert_exporter": "python",
   "pygments_lexer": "ipython3",
   "version": "3.9.7"
  }
 },
 "nbformat": 4,
 "nbformat_minor": 5
}

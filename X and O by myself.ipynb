{
 "cells": [
  {
   "cell_type": "code",
   "execution_count": 3,
   "id": "1ca0f718",
   "metadata": {},
   "outputs": [
    {
     "name": "stdout",
     "output_type": "stream",
     "text": [
      "1   2   3\n",
      "4   5   6\n",
      "7   8   9\n"
     ]
    }
   ],
   "source": [
    "print('1   2   3\\n4   5   6\\n7   8   9')"
   ]
  },
  {
   "cell_type": "code",
   "execution_count": 4,
   "id": "d140e567",
   "metadata": {},
   "outputs": [
    {
     "name": "stdout",
     "output_type": "stream",
     "text": [
      "Выберите позицию из сетки: 1-9?1\n"
     ]
    }
   ],
   "source": [
    "position = int(input('Выберите позицию из сетки: 1-9?'))"
   ]
  },
  {
   "cell_type": "code",
   "execution_count": 5,
   "id": "86454c0c",
   "metadata": {},
   "outputs": [
    {
     "name": "stdout",
     "output_type": "stream",
     "text": [
      "1\n"
     ]
    }
   ],
   "source": [
    "print(position)"
   ]
  },
  {
   "cell_type": "code",
   "execution_count": 5,
   "id": "f3fa2a19",
   "metadata": {},
   "outputs": [],
   "source": [
    "def player_input():\n",
    "    choice = input(\"Выберите сторону? X или O:  \")\n",
    "    if choice == 'X':\n",
    "        print('Вы играете крестиками')\n",
    "    elif choice == 'O':\n",
    "        print('Вы играете ноликами')\n",
    "    else:\n",
    "        while choice != 'X' or choice != 'O':\n",
    "            choice = input(\"Выберите сторону? X или O:  \")\n",
    "            "
   ]
  },
  {
   "cell_type": "code",
   "execution_count": null,
   "id": "ca64660a",
   "metadata": {},
   "outputs": [
    {
     "name": "stdout",
     "output_type": "stream",
     "text": [
      "Выберите сторону? X или O:  egsg\n",
      "Выберите сторону? X или O:  XX\n",
      "Выберите сторону? X или O:  X\n",
      "Выберите сторону? X или O:  O\n"
     ]
    }
   ],
   "source": [
    "player_input()"
   ]
  },
  {
   "cell_type": "code",
   "execution_count": null,
   "id": "d235fc11",
   "metadata": {},
   "outputs": [],
   "source": []
  }
 ],
 "metadata": {
  "kernelspec": {
   "display_name": "Python 3 (ipykernel)",
   "language": "python",
   "name": "python3"
  },
  "language_info": {
   "codemirror_mode": {
    "name": "ipython",
    "version": 3
   },
   "file_extension": ".py",
   "mimetype": "text/x-python",
   "name": "python",
   "nbconvert_exporter": "python",
   "pygments_lexer": "ipython3",
   "version": "3.9.7"
  }
 },
 "nbformat": 4,
 "nbformat_minor": 5
}

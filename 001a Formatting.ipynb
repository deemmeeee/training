{
 "cells": [
  {
   "cell_type": "code",
   "execution_count": 1,
   "id": "73028c2c",
   "metadata": {},
   "outputs": [
    {
     "name": "stdout",
     "output_type": "stream",
     "text": [
      "I'm going to inject something here.\n",
      "I'm going to inject some text here, and more text here.\n",
      "I'm going to inject SOME text here, and MORE text here.\n"
     ]
    }
   ],
   "source": [
    "#Форматирование с помощью замены %s\n",
    "\n",
    "print(\"I'm going to inject %s here.\" %'something') \n",
    "#Можно передать несколько значений,после оператора % в виде кортежа (tuple)\n",
    "print(\"I'm going to inject %s text here, and %s text here.\" %('some','more'))\n",
    "#с использованием переменных:\n",
    "x, y = 'SOME', 'MORE'\n",
    "print(\"I'm going to inject %s text here, and %s text here.\"%(x,y))"
   ]
  },
  {
   "cell_type": "code",
   "execution_count": 2,
   "id": "291ae577",
   "metadata": {},
   "outputs": [
    {
     "name": "stdout",
     "output_type": "stream",
     "text": [
      "He said his name was Fred.\n",
      "He said his name was 'FRED'.\n",
      "I once caught a fish this \tbig.\n",
      "I once caught a fish 'this \\tbig'.\n",
      "I wrote 3.75 programs today.\n",
      "I wrote 3 programs today.\n",
      "Floating point numbers:      13.14\n"
     ]
    }
   ],
   "source": [
    "#Два метода - %s и %r - могут конвертировать любой объект python в строку,\n",
    "\n",
    "#используя два различных метода: str() and repr().\n",
    "# %r и repr() строковое представление объекта (string representation), \n",
    "#включая кавычки и любые символы экранирования.\n",
    "print('He said his name was %s.' %'Fred')\n",
    "print('He said his name was %r.' %'FRED')\n",
    "#\\t добавляет табуляцию\n",
    "print('I once caught a fish %s.' %'this \\tbig')\n",
    "print('I once caught a fish %r.' %'this \\tbig')\n",
    "#Оператор %s преобразует всё, что он видит, в строку,\n",
    "#включая целые и дробные числа. \n",
    "#Оператор %d сначала преобразует числа в целые числа integer,\n",
    "#без округления. Обратите внимание на разницу:\n",
    "print('I wrote %s programs today.' %3.75)\n",
    "print('I wrote %d programs today.' %3.75)  \n",
    "#Числа с плавающей точкой: %5.2f. Здесь 10 - это минимальное количество символов\n",
    "#, которое будет содержаться в строке; \n",
    "#если всё число не содержит достаточно цифр, \n",
    "#то строка будет дополнена пробелами. Далее, .2f указывает, \n",
    "#сколько цифр после разделителя дробной части.\n",
    "print('Floating point numbers: %10.2f' %(13.144))"
   ]
  },
  {
   "cell_type": "code",
   "execution_count": 3,
   "id": "145d068b",
   "metadata": {},
   "outputs": [
    {
     "name": "stdout",
     "output_type": "stream",
     "text": [
      "The quick brown fox\n",
      "Fruit    | Quantity \n",
      "Apples   |       3.0\n",
      "Oranges  |        10\n",
      "A penny saved is a penny earned.\n",
      "Left     |  Center  |    Right\n",
      "11       |    22    |       33\n",
      "Left==== | -Center- | ...Right\n",
      "11====== | ---22--- | ......33\n",
      "This is my ten-character, two-decimal number:     13.58\n"
     ]
    }
   ],
   "source": [
    "#.format\n",
    "\n",
    "#'Добавить еще одну строку с помощью: {}'.format('Добавляемая строка')\n",
    "#1. Добавляемые объекты можно указать по их номеру:\n",
    "print('The {2} {1} {0}'.format('fox','brown','quick'))\n",
    "#можно указать длину полей, выравнивание влево/вправо, параметры округления.\n",
    "print('{0:8} | {1:9}'.format('Fruit', 'Quantity'))\n",
    "print('{0:8} | {1:9}'.format('Apples', 3.))\n",
    "print('{0:8} | {1:9}'.format('Oranges', 10))\n",
    "# Добавляемые объекты можно переиспользовать, без дублирования\n",
    "print('A {p} saved is a {p} earned.'.format(p='penny'))\n",
    "#выравнивание <,^ или >, чтобы установить выравнивание влево, \n",
    "#по центру или вправо:\n",
    "print('{0:<8} | {1:^8} | {2:>8}'.format('Left','Center','Right'))\n",
    "print('{0:<8} | {1:^8} | {2:>8}'.format(11,22,33))\n",
    "#можно указать символ\n",
    "print('{0:=<8} | {1:-^8} | {2:.>8}'.format('Left','Center','Right'))\n",
    "print('{0:=<8} | {1:-^8} | {2:.>8}'.format(11,22,33))\n",
    "#Ширина полей и точность дробных чисел указываются похоже на синтаксис %\n",
    "print('This is my ten-character, two-decimal number:{0:10.2f}'.format(13.579))"
   ]
  },
  {
   "cell_type": "code",
   "execution_count": 4,
   "id": "9461ba61",
   "metadata": {},
   "outputs": [
    {
     "name": "stdout",
     "output_type": "stream",
     "text": [
      "He said his name is Fred.\n",
      "He said his name is 'Fred'\n",
      "My 10 character, four decimal number is:   23.4568\n",
      "My 10 character, four decimal number is:   23.4568\n",
      "My 10 character, four decimal number is:   23.4500\n",
      "My 10 character, four decimal number is:   23.4500\n"
     ]
    }
   ],
   "source": [
    "#f-строки (f-strings)\n",
    "\n",
    "name = 'Fred'\n",
    "print(f\"He said his name is {name}.\")\n",
    "#!r, чтобы получить строковое представление:\n",
    "print(f\"He said his name is {name!r}\")\n",
    "#Формат для дробных чисел следующий: \"result: {value:{width}.{precision}}\"\n",
    "#для метода .format() {value:10.4f}\n",
    "#для f-строк этот формат становится вот таким: {value:{10}.{6}}\n",
    "num = 23.45678\n",
    "print(\"My 10 character, four decimal number is:{0:10.4f}\".format(num))\n",
    "print(f\"My 10 character, four decimal number is:{num:{10}.{6}}\")\n",
    "#f-строки не дополняются нулями справа от дробной части\n",
    "#можете использовать метод .format() внутри f-string:\n",
    "num = 23.45\n",
    "print(\"My 10 character, four decimal number is:{0:10.4f}\".format(num))\n",
    "print(f\"My 10 character, four decimal number is:{num:10.4f}\")"
   ]
  },
  {
   "cell_type": "code",
   "execution_count": null,
   "id": "d3d2736a",
   "metadata": {},
   "outputs": [],
   "source": []
  }
 ],
 "metadata": {
  "kernelspec": {
   "display_name": "Python 3 (ipykernel)",
   "language": "python",
   "name": "python3"
  },
  "language_info": {
   "codemirror_mode": {
    "name": "ipython",
    "version": 3
   },
   "file_extension": ".py",
   "mimetype": "text/x-python",
   "name": "python",
   "nbconvert_exporter": "python",
   "pygments_lexer": "ipython3",
   "version": "3.9.7"
  }
 },
 "nbformat": 4,
 "nbformat_minor": 5
}
